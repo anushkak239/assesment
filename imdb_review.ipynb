import pandas as pd
file_path = r'IMDB Dataset.csv'


df = pd.read_csv(file_path)
df.head()


import seaborn as sns
import matplotlib.pyplot as plt
from sklearn.feature_extraction.text import CountVectorizer
from sklearn.model_selection import train_test_split
from sklearn.linear_model import LinearRegression
from sklearn.metrics import accuracy_score, confusion_matrix, classification_report




print(df.info())
print(df['sentiment'].value_counts())


sns.countplot(x = 'sentiment', data = df)
plt.title("Sentiment Distribution")
plt.show()


vectorizer = CountVectorizer()


sample_df = df.sample(n=20000)


x = vectorizer.fit_transform(sample_df['review'])


y = sample_df['sentiment'].apply(lambda x: 1 if x == 'positive' else 0)




print(x.toarray())
print(y.head())

x_train, x_test, y_train , y_test = train_test_split(x, y,test_size= 0.2, random_state= 42)

print (f'training samples:{x_train.shape[0]}, testing samples :{x_test.shape[0]}')


model = LinearRegression()
model.fit(x_train, y_train)

y_pred = model.predict(x_test)
y_pred_class = [1 if p> 0.5 else 0 for p in y_pred]

accuracy = accuracy_score(y_test, y_pred_class)
print (f'accuracy = {accuracy}')


confuse = confusion_matrix(y_test, y_pred_class)
print('confusion metricl= ')
print(confuse)

report = classification_report(y_test, y_pred_class, target_names=['positive', 'negative'])
print('classfication report=')
print(report)


sns.heatmap(confuse, annot=True, fmt='d', cmap='Blues', xticklabels=['negative', 'positive'], yticklabels=['negative','possitive'])
plt.xlabel('Predicted')
plt.ylabel('Actual')
plt.title('Confusion Matrix')
plt.show()


review = ['i enjoyed a lot', 'it was terrible', 'amazing','bad','good story','time waste', 'time spent so well that regret spending it ']
vector = vectorizer.transform(review)


pred = model.predict(vector)
pred_class = ['possitive' if p >0.5 else 'negative' for p in pred]
for re, sentiment in zip (review, pred_class):
    print(f'review:{re} - sentiment:{sentiment}')
